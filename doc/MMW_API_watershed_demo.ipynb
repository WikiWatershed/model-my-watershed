{
 "cells": [
  {
   "cell_type": "markdown",
   "metadata": {},
   "source": [
    "# Model My Watershed (MMW) API Demo\n",
    "[Emilio Mayorga](https://github.com/emiliom/), University of Washington, Seattle. 2018-5-10. Demo put together using as a starting point instructions from Azavea  from October 2017."
   ]
  },
  {
   "cell_type": "markdown",
   "metadata": {},
   "source": [
    "## Introduction\n",
    "\n",
    "The [Model My Watershed API](https://modelmywatershed.org/api/docs/) allows you to delineate watersheds and analyze geo-data for watersheds and arbitrary areas. You can read more about the work at [WikiWatershed](http://www.wikiwatershed.org/) or use the [web app](https://modelmywatershed.org/).\n",
    "\n",
    "MMW users can discover their API keys through the user interface, and test the MMW geoprocessing API on either the live or staging apps. An Account page with the API key is available from either app (live or staging). To see it, go to the app, log in, and click on \"Account\" in the dropdown that appears when you click on your username in the top right. **Your key is different between staging and production.** For testing with the API and key, go to https://modelmywatershed.org/api/docs/\n",
    "\n",
    "The API can be tested from the command line using `curl`. This example uses the API to test the `watershed` endpoint:\n",
    "```bash\n",
    "curl -H \"Content-Type: application/json\" -H \"Authorization: Token YOUR_API_KEY\" -X POST \n",
    "  -d '{ \"location\": [39.67185,-75.76743] }' https://modelmywatershed.org/api/watershed/\n",
    "```"
   ]
  },
  {
   "cell_type": "markdown",
   "metadata": {},
   "source": [
    "## MMW API: Extract drainage area (watershed) from a point"
   ]
  },
  {
   "cell_type": "markdown",
   "metadata": {},
   "source": [
    "### 1. Set up"
   ]
  },
  {
   "cell_type": "code",
   "execution_count": 1,
   "metadata": {},
   "outputs": [],
   "source": [
    "import json\n",
    "import requests\n",
    "from requests.adapters import HTTPAdapter\n",
    "from requests.packages.urllib3.util.retry import Retry"
   ]
  },
  {
   "cell_type": "code",
   "execution_count": 2,
   "metadata": {},
   "outputs": [],
   "source": [
    "def requests_retry_session(\n",
    "    retries=3,\n",
    "    backoff_factor=0.3,\n",
    "    status_forcelist=(500, 502, 504),\n",
    "    session=None,\n",
    "):\n",
    "    session = session or requests.Session()\n",
    "    retry = Retry(\n",
    "        total=retries,\n",
    "        read=retries,\n",
    "        connect=retries,\n",
    "        backoff_factor=backoff_factor,\n",
    "        status_forcelist=status_forcelist,\n",
    "    )\n",
    "    adapter = HTTPAdapter(max_retries=retry)\n",
    "    session.mount('http://', adapter)\n",
    "    session.mount('https://', adapter)\n",
    "    return session"
   ]
  },
  {
   "cell_type": "code",
   "execution_count": 3,
   "metadata": {},
   "outputs": [],
   "source": [
    "s = requests.Session()"
   ]
  },
  {
   "cell_type": "code",
   "execution_count": 4,
   "metadata": {
    "collapsed": true
   },
   "outputs": [],
   "source": [
    "APIToken = 'Token YOURTOKEN'  # Replace YOURTOKEN with your actual token string/key\n",
    "\n",
    "s.headers.update({\n",
    "    'Authorization': APIToken,\n",
    "    'Content-Type': 'application/json'\n",
    "})"
   ]
  },
  {
   "cell_type": "markdown",
   "metadata": {},
   "source": [
    "MMW **staging** (test) API Rapid Watershed Delineation (RWD) \"watershed\" endpoint:"
   ]
  },
  {
   "cell_type": "code",
   "execution_count": 5,
   "metadata": {
    "collapsed": true
   },
   "outputs": [],
   "source": [
    "post_url = 'https://modelmywatershed.org/api/watershed/'"
   ]
  },
  {
   "cell_type": "markdown",
   "metadata": {},
   "source": [
    "### 2. Construct and issue the job request"
   ]
  },
  {
   "cell_type": "markdown",
   "metadata": {},
   "source": [
    "Parameters passed to the RWD (\"watershed\") API request. This is a point in Salt Lake City"
   ]
  },
  {
   "cell_type": "code",
   "execution_count": 6,
   "metadata": {},
   "outputs": [],
   "source": [
    "payload = {\n",
    "    'location': [40.746054, -111.847987], # [latitude, longitude]\n",
    "    'snappingOn': True, \n",
    "    'dataSource': 'nhd'}\n",
    "\n",
    "json_dat = json.dumps(payload)"
   ]
  },
  {
   "cell_type": "code",
   "execution_count": 7,
   "metadata": {},
   "outputs": [],
   "source": [
    "post_req = requests_retry_session(session=s).post(post_url, data=json_dat)"
   ]
  },
  {
   "cell_type": "code",
   "execution_count": 8,
   "metadata": {},
   "outputs": [
    {
     "data": {
      "text/plain": [
       "{u'job': u'b704b73a-3ff5-4acf-a06e-135f8bf8d028', u'status': u'started'}"
      ]
     },
     "execution_count": 8,
     "metadata": {},
     "output_type": "execute_result"
    }
   ],
   "source": [
    "json_out = json.loads(post_req.content)\n",
    "json_out"
   ]
  },
  {
   "cell_type": "markdown",
   "metadata": {},
   "source": [
    "### 3. Fetch the job result once it's confirmed as done\n",
    "The job is not completed instantly and the results are not returned directly by the API request that initiated the job. The user must first issue an API request to confirm that the job is complete, then fetch the results. The demo presented here performs automated retries (checks) until the server confirms the job is completed, then requests the JSON results and converts (deserializes) them into a Python dictionary."
   ]
  },
  {
   "cell_type": "code",
   "execution_count": 9,
   "metadata": {
    "collapsed": true
   },
   "outputs": [],
   "source": [
    "get_url = 'https://modelmywatershed.org/api/jobs/{job}/'.format"
   ]
  },
  {
   "cell_type": "code",
   "execution_count": 10,
   "metadata": {},
   "outputs": [],
   "source": [
    "result = ''\n",
    "while not result:\n",
    "    get_req = requests_retry_session(session=s).get(get_url(job=json_out['job']))\n",
    "    result = json.loads(get_req.content)['result']"
   ]
  },
  {
   "cell_type": "markdown",
   "metadata": {},
   "source": [
    "### 4. Examine the results\n",
    "Everything below is just exploration of the results."
   ]
  },
  {
   "cell_type": "markdown",
   "metadata": {},
   "source": [
    "#### Examine the content of the results (as JSON, GeoJSON, and Python dictionaries)"
   ]
  },
  {
   "cell_type": "code",
   "execution_count": 11,
   "metadata": {},
   "outputs": [
    {
     "data": {
      "text/plain": [
       "(dict, [u'watershed', u'input_pt'])"
      ]
     },
     "execution_count": 11,
     "metadata": {},
     "output_type": "execute_result"
    }
   ],
   "source": [
    "type(result), result.keys()"
   ]
  },
  {
   "cell_type": "markdown",
   "metadata": {},
   "source": [
    "The results (`result`) are made up of two dictionary items: `input_pt` and `watershed`. Each one of those is a [GeoJSON](http://geojson.org/)-like object already converted to a Python dictionary."
   ]
  },
  {
   "cell_type": "markdown",
   "metadata": {},
   "source": [
    "**input_pt:**"
   ]
  },
  {
   "cell_type": "code",
   "execution_count": 12,
   "metadata": {},
   "outputs": [],
   "source": [
    "input_pt_geojson = result['input_pt']"
   ]
  },
  {
   "cell_type": "code",
   "execution_count": 13,
   "metadata": {},
   "outputs": [
    {
     "data": {
      "text/plain": [
       "{u'geometry': {u'coordinates': [-111.847987, 40.746054], u'type': u'Point'},\n",
       " u'properties': {u'DistStr_m': -32768.0,\n",
       "  u'Dist_moved': -1,\n",
       "  u'ID': 1,\n",
       "  u'Lat': 40.746054,\n",
       "  u'Lon': -111.847987},\n",
       " u'type': u'Feature'}"
      ]
     },
     "execution_count": 13,
     "metadata": {},
     "output_type": "execute_result"
    }
   ],
   "source": [
    "input_pt_geojson"
   ]
  },
  {
   "cell_type": "markdown",
   "metadata": {},
   "source": [
    "**watershed:**"
   ]
  },
  {
   "cell_type": "code",
   "execution_count": 14,
   "metadata": {},
   "outputs": [],
   "source": [
    "watershed_geojson = result['watershed']"
   ]
  },
  {
   "cell_type": "code",
   "execution_count": 15,
   "metadata": {},
   "outputs": [
    {
     "data": {
      "text/plain": [
       "([u'geometry', u'type', u'properties'], [u'type', u'coordinates'])"
      ]
     },
     "execution_count": 15,
     "metadata": {},
     "output_type": "execute_result"
    }
   ],
   "source": [
    "watershed_geojson.keys(), watershed_geojson['geometry'].keys()"
   ]
  },
  {
   "cell_type": "code",
   "execution_count": 16,
   "metadata": {},
   "outputs": [
    {
     "data": {
      "text/plain": [
       "{u'Area_km2': 23.7861, u'GRIDCODE': 1}"
      ]
     },
     "execution_count": 16,
     "metadata": {},
     "output_type": "execute_result"
    }
   ],
   "source": [
    "watershed_geojson['properties']"
   ]
  },
  {
   "cell_type": "code",
   "execution_count": 17,
   "metadata": {},
   "outputs": [
    {
     "name": "stdout",
     "output_type": "stream",
     "text": [
      "Number of polygon features: 1 \n",
      "Feature type: Polygon \n",
      "Number of vertices in polygon: 809\n"
     ]
    }
   ],
   "source": [
    "# watershed has just one feature -- a single polygon\n",
    "print(\"Number of polygon features: {} \\nFeature type: {} \\nNumber of vertices in polygon: {}\".format(\n",
    "    len(watershed_geojson['geometry']['coordinates']), \n",
    "    watershed_geojson['geometry']['type'], \n",
    "    len(watershed_geojson['geometry']['coordinates'][0])\n",
    "))"
   ]
  },
  {
   "cell_type": "markdown",
   "metadata": {},
   "source": [
    "#### Render the geospatial results on an interactive map"
   ]
  },
  {
   "cell_type": "code",
   "execution_count": 18,
   "metadata": {},
   "outputs": [],
   "source": [
    "%matplotlib inline\n",
    "import folium"
   ]
  },
  {
   "cell_type": "code",
   "execution_count": 19,
   "metadata": {},
   "outputs": [],
   "source": [
    "# Initialize Folium map\n",
    "m = folium.Map(location=[input_pt_geojson['properties']['Lat'], input_pt_geojson['properties']['Lon']], \n",
    "               tiles='CartoDB positron', zoom_start=12)"
   ]
  },
  {
   "cell_type": "code",
   "execution_count": 20,
   "metadata": {
    "collapsed": true
   },
   "outputs": [],
   "source": [
    "# Add RWD watershed and drainage point onto map\n",
    "folium.GeoJson(watershed_geojson).add_to(m);\n",
    "folium.GeoJson(input_pt_geojson).add_to(m);"
   ]
  },
  {
   "cell_type": "code",
   "execution_count": 21,
   "metadata": {},
   "outputs": [
    {
     "data": {
      "text/html": [
       "<div style=\"width:100%;\"><div style=\"position:relative;width:100%;height:0;padding-bottom:60%;\"><iframe src=\"data:text/html;charset=utf-8;base64,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\" style=\"position:absolute;width:100%;height:100%;left:0;top:0;border:none !important;\" allowfullscreen webkitallowfullscreen mozallowfullscreen></iframe></div></div>"
      ],
      "text/plain": [
       "<folium.folium.Map at 0x7fdc8aef7110>"
      ]
     },
     "execution_count": 21,
     "metadata": {},
     "output_type": "execute_result"
    }
   ],
   "source": [
    "m"
   ]
  }
 ],
 "metadata": {
  "kernelspec": {
   "display_name": "Python [conda env:odm2client]",
   "language": "python",
   "name": "conda-env-odm2client-py"
  },
  "language_info": {
   "codemirror_mode": {
    "name": "ipython",
    "version": 2
   },
   "file_extension": ".py",
   "mimetype": "text/x-python",
   "name": "python",
   "nbconvert_exporter": "python",
   "pygments_lexer": "ipython2",
   "version": "2.7.14"
  }
 },
 "nbformat": 4,
 "nbformat_minor": 2
}
